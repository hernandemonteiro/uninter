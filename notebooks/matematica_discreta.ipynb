{
  "nbformat": 4,
  "nbformat_minor": 0,
  "metadata": {
    "colab": {
      "provenance": [],
      "authorship_tag": "ABX9TyNdEvD05HYTzYF4DcF9mvYA"
    },
    "kernelspec": {
      "name": "python3",
      "display_name": "Python 3"
    },
    "language_info": {
      "name": "python"
    }
  },
  "cells": [
    {
      "cell_type": "markdown",
      "source": [
        "# Matemática Discreta para Ciência da Computação\n",
        "\n",
        "Esse notebook é um estudo prático do livro com o título \"Matemática Discreta para Ciência da Computação\" e as aulas na matéria de matemática discreta, aqui vou abordar os capitulos e desenvolver em formato de código os exemplos e cálculos apresentados."
      ],
      "metadata": {
        "id": "1Q9ydfPJnsVJ"
      }
    },
    {
      "cell_type": "markdown",
      "source": [
        "# Contagem"
      ],
      "metadata": {
        "id": "AY3RSoppvHyN"
      }
    },
    {
      "cell_type": "markdown",
      "source": [
        "## **Contágem básica**\n",
        "\n"
      ],
      "metadata": {
        "id": "1xrIrBswnnVq"
      }
    },
    {
      "cell_type": "markdown",
      "source": [
        "### **Princípio da adição:**\n",
        "\n",
        "1 - O tamanho da união de uma família de conjuntos finitos mutuamente disjuntos é a soma dos tamanhos dos conjuntos\n",
        "\n",
        "2 - Se um conjunto **S** foi dividido em blocos, então o tamanho de **S** é a soma do tamanho de blocos."
      ],
      "metadata": {
        "id": "TuwkFZjyw0F8"
      }
    },
    {
      "cell_type": "code",
      "metadata": {
        "colab": {
          "base_uri": "https://localhost:8080/"
        },
        "id": "26b53671",
        "outputId": "484811e6-a6a0-4703-abbe-295db9e09c54"
      },
      "source": [
        "def selection_sort(A):\n",
        "  n = len(A)\n",
        "  first_loop = 0\n",
        "  second_loop = 0\n",
        "  comparisons = []\n",
        "  # para i = 1 a n -1\n",
        "  for i in range(n - 1):\n",
        "    first_loop += 1\n",
        "    # para j = i + 1 a n\n",
        "    for j in range(i + 1, n):\n",
        "      second_loop += 1\n",
        "      # se (A[i] > A[j])\n",
        "      if A[i] > A[j]:\n",
        "        # troque A[i] e A[j]\n",
        "        comparisons.append((A[i], A[j]))\n",
        "        A[i], A[j] = A[j], A[i]\n",
        "  print(\"First loop: \", first_loop)\n",
        "  print(\"Second loop: \", second_loop)\n",
        "  print(\"comparisons: \", len(comparisons), '\\n')\n",
        "  return A\n",
        "\n",
        "# Example usage:\n",
        "my_list = [64, 34, 25, 12, 22, 11, 90]\n",
        "sorted_list = selection_sort(my_list.copy())\n",
        "print(\"Original list:\", my_list)\n",
        "print(\"Sorted list:\", sorted_list)"
      ],
      "execution_count": 148,
      "outputs": [
        {
          "output_type": "stream",
          "name": "stdout",
          "text": [
            "First loop:  6\n",
            "Second loop:  21\n",
            "comparisons:  14 \n",
            "\n",
            "Original list: [64, 34, 25, 12, 22, 11, 90]\n",
            "Sorted list: [11, 12, 22, 25, 34, 64, 90]\n"
          ]
        }
      ]
    },
    {
      "cell_type": "markdown",
      "source": [
        "**O que fizemos acima?**\n",
        "\n",
        "No caso acima temos que foram executadas **n - 1** vezes, ou seja, para termos uma lista pronta, o computador fez **n - i** comparações.\n",
        "\n",
        "no caso para cada posição do conjunto **A**, menos a última, `range(n - 1)`, cada posição do conjunto é análisada dentre os próximos valores do conjunto, isso é feito no segundo loop, ou seja, para cada **i** do conjunto análisamos o restante do conjunto a partir dali, armazenando o index em **j** para que possamos comparar as duas posições do conjunto e caso a posição **i** seja maior que a possição **j**, trocamos, fazendo assim o que chamamos de **selection sort**."
      ],
      "metadata": {
        "id": "vNOLybgJub8k"
      }
    },
    {
      "cell_type": "code",
      "source": [
        "print(\"Curiosidade!\\nConjuntos em estrutura de dados tem a mesma composição matemática!\\n\")\n",
        "# Nota:\n",
        "# Em computação temos conjuntos que puxam a ideia de conjuntos matemáticos\n",
        "# diferente de listas/arrays, esses conjuntos não duplicam seus valores,\n",
        "# assim como na matemática se temos |{a,b,c}| = 3 e se temos |{a,b,a}| = 2.\n",
        "\n",
        "# abaixo um exemplo de lista e um de conjunto\n",
        "\n",
        "# compondo uma lista com valores repetidos\n",
        "lista = [1, 2, 2]\n",
        "\n",
        "# aqui tentamos compor um conjunto com valores repetidos\n",
        "conjunto = {1, 2, 2}\n",
        "\n",
        "print(\"lista: \", lista)\n",
        "print(\"conjunto: \", conjunto)"
      ],
      "metadata": {
        "colab": {
          "base_uri": "https://localhost:8080/"
        },
        "id": "_Mv1E8hUo0nv",
        "outputId": "b8fafeb6-f38f-4a17-a86e-26fd65ab16f7"
      },
      "execution_count": 149,
      "outputs": [
        {
          "output_type": "stream",
          "name": "stdout",
          "text": [
            "Curiosidade!\n",
            "Conjuntos em estrutura de dados tem a mesma composição matemática!\n",
            "\n",
            "lista:  [1, 2, 2]\n",
            "conjunto:  {1, 2}\n"
          ]
        }
      ]
    },
    {
      "cell_type": "markdown",
      "source": [
        "Notação padrão para união:\n",
        "\n",
        "![image.png](data:image/png;base64,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)"
      ],
      "metadata": {
        "id": "KZp-Y4rCU6y8"
      }
    },
    {
      "cell_type": "code",
      "source": [
        "# algumas operações com conjuntos em python\n",
        "A = {1, 2, 3, 4}\n",
        "B = {3, 4, 5, 6}\n",
        "\n",
        "print(\"Operações feitas com tempo médio de acesso: O(1)\\n\")\n",
        "\n",
        "print(\"dados conjuntos A e B:\")\n",
        "print(\"A: \", A)\n",
        "print(\"B: \", B)\n",
        "print(\"\\n\")\n",
        "print(\"união: \", A | B)\n",
        "print(\"interseção: \", A & B)\n",
        "print(\"diferença A - B: \", A - B)\n",
        "print(\"diferença B - A: \", B - A)\n",
        "print(\"diferença simétrica: \", A ^ B)"
      ],
      "metadata": {
        "colab": {
          "base_uri": "https://localhost:8080/"
        },
        "id": "jb22sr3CVKtR",
        "outputId": "fd979581-5587-464d-8533-2fdee81a98d2"
      },
      "execution_count": 150,
      "outputs": [
        {
          "output_type": "stream",
          "name": "stdout",
          "text": [
            "Operações feitas com tempo médio de acesso: O(1)\n",
            "\n",
            "dados conjuntos A e B:\n",
            "A:  {1, 2, 3, 4}\n",
            "B:  {3, 4, 5, 6}\n",
            "\n",
            "\n",
            "união:  {1, 2, 3, 4, 5, 6}\n",
            "interseção:  {3, 4}\n",
            "diferença A - B:  {1, 2}\n",
            "diferença B - A:  {5, 6}\n",
            "diferença simétrica:  {1, 2, 5, 6}\n"
          ]
        }
      ]
    },
    {
      "cell_type": "markdown",
      "source": [
        "### **Abstração**\n",
        "Abstração é o processo de descobrir um princípio que explique porque certo cálculo faz sentido.\n",
        "como não é necessário um aprofundamento a nivel teórico matemático, vamos focar apenas no uso do prrincipio da adição para solucionar os problemas propostos, ele vai ser usado em diversas situações, tendo visto que algumas usaremos alguns conceitos de abstração.\n"
      ],
      "metadata": {
        "id": "5XfD8ySXw5rL"
      }
    },
    {
      "cell_type": "markdown",
      "source": [
        "### **Soma de inteiros consecutivos**\n",
        "\n",
        "Processo de notação de somatório:\n",
        "\n",
        "$$\n",
        "\\sum_{i=1}^{n} n\n",
        "$$\n",
        "\n",
        "\n",
        "Sendo assim, para nosso primeiro exemplo utilizamos a notação abaixo:\n",
        "\n",
        "$$\n",
        "\\sum_{i=1}^{n-1} (n - 1)\n",
        "$$\n",
        "\n",
        "Mas como um processo mais simples apresentado por Carl Friedrich Gauss, podemos fazer então:\n",
        "\n",
        "\n",
        "$$\n",
        "\\sum_{i=1}^{n-1} (n - 1) = \\sum_{i=1}^{n-1} i.\n",
        "$$\n",
        "\n",
        "sendo assim estamos somando todos os inteiros consecutivamente até a posição n-1."
      ],
      "metadata": {
        "id": "Sv58qvItYY9X"
      }
    },
    {
      "cell_type": "markdown",
      "source": [
        "### **Princípio do Produto**\n",
        "\n",
        "O tamanho da união de conjuntos disjuntos m, sendo cada um de tamanho n, é mn.\n",
        "![image.png](data:image/png;base64,iVBORw0KGgoAAAANSUhEUgAAATMAAAA/CAYAAACM7S+RAAAABHNCSVQICAgIfAhkiAAAABl0RVh0U29mdHdhcmUAZ25vbWUtc2NyZWVuc2hvdO8Dvz4AAAAtdEVYdENyZWF0aW9uIFRpbWUARnJpIDI3IEp1biAyMDI1IDEyOjI0OjA0IEFNIC0wMwhzF+IAACAASURBVHic7V15cFRV9v563zt7OntnAUIgAUJYQthFmRFFxwV0RplhmHGmHNfSKpepKUf962eJTpUzauFUOepYOlaNCwgqm4AyaNiEJEgSQhYgC1m60+n19Xv9+vcHdS63m45EIRvpryoV0rx+793t3HO+s1xFOBwO4xpHOBxGOBxGMBiERqOB3++HQqGARqOBRqOBQqGALMsAAKVSOcpvexGBQAA+nw9WqxXhcBgqlQqiKEKn0432q8URx5jD2Fm5wwhZlqFQKKBWq+FwOLBjxw4cPXoUgiCAZLlSqRxTggwAHA4Htm7dijNnzgC40A6NRjPKbxVHHGMTY2v1DhOUSiVkWWaazYEDB9DS0gKtVguFQsE0t8F+RgLRzwmFQujv78f+/fsxMDDA2jEBFOk44vhJmBDCjIdCoUAoFEI4HL5EExttQUHP599DFMWY18QRRxyRUI/2C4wHDFWAKBSKq/5shULBfobrGQRemMZ6Dv0//z7jFUMdU77N/O84xh7iwuwyiGVqDjahr/ZEjxZiZBIPF3jTOhZ/yD/7WljUQ+lLvj+uhTZfy5hwZubVwEibeiOhCQ2FJ5RlecS5xNHGaPCncfw0TAhhxguDH9pl6TNJkiI+F0URCoWC/SYNSZIkZpKFQqGr/t6yLDPnBT13ODyukiQhFAqxdlFbQ6FQRF/wnt/h1hJHAtQ2Gjs+RIfGNhAIsP+j+UHXxDG2MGHMTF54XU7TkWUZwWAQwWAQ3d3d8Hq90Ov16O/vh91uR2dnJ1QqFfLz82E0GlnYx9UGCRaewxoODY28pMFgEL29vejr64NOp4Pf70dqaiqCwSC6urpQVlYGo9EY8x3HG2jM6N1FUcTAwAAaGhqQnp4Ol8uF9PR0hEIh+Hw+2O12mEwm9t04xh4mjDAbKig4VZZliKKI6upq1NXVobKyEjt37sTSpUvR09OD06dP449//CPy8/MjQj/GK8LhMPx+Pw4ePIjDhw9j/vz52L59O5YvXw4A2LNnD5555plLhNl4BU/sq9VqBINBHDlyBLt27cKiRYuwfft2VFVVQaFQ4NixY9iwYQMmT54MpVI5rsf5WsaEMDOHinA4DFmWoVarodFooFKp0N7eDgCw2+0YGBiATqdDRkYG7HY70tPT2XfH824dCoWgVCphMpnQ19cHURSRm5sLg8EAALDZbMjKyhpzQcVXAlEUGQcIXDAre3t7AQBz5sxh12RkZCAnJwdJSUnDRifEcXVw7czOqwR+cns8HjgcDixbtgwtLS1ISUnB1KlTcfbsWWRkZECr1TKuKZpnG09Qq9WQJAkulws9PT2YOXMment7Icsypk6ditraWmRnZzPhdi1ArVZDrVYzXtDhcKCtrQ2LFi1Cc3MzfD4fysvLUV9fj6SkJBgMBigUirhWNoYxoYVZNJHLmxChUAjNzc3QaDTIy8tDTU0NKioq4Pf70draCqvVCkmS4PP5EAqFoNVqR6MJVw2yLKO/vx9erxczZsxAe3s7CgoKAACdnZ0wmUwRThTiyqI10vHiFCBqgIKSOzs7IUkSioqKcO7cOcyZMwc6nQ4tLS3Q6/Xs+jjGLiY0Z0aTk1+AkiQxHqWwsBC33XYb0tPTcfPNNyMxMRFWqxXXX389ioqKYDQaEQwGoVKpIEnSsDgBRgqyLMNisWD16tXIy8uDIAgwmUxITk7G8uXLYbfbWfsuF1Q7HkBtIEohMzMT119/PfLy8lgRguTkZNxwww0oKCiATqdjFEQoFIpraGMQ43f1DQNoEsuyDFmWYbPZYLPZIAgCysvLWWjGddddB5VKFeHF5PmX6HuOJQz2jrR4U1NT4ff7UVxcDIPBgHA4jAULFsRMcOeF2lgWZLHeTZIkaDQaKJVKhEIhZGZmIj09HbIso7i4mPGny5cvh1qtZnMCuBgyE42xNtYTDRNemPEBkWQ2qVQqhMNhRoyTt0ulUrG/KXyDQifG605N8XJkYguCAJVKxYS6RqOBWq2+RCDEyiMdT4uZhFEoFIIgCNDr9dBoNGxMgYueTuJFqfTSeGrnRMKEFWaxuB4+wl2tVkOlUjE+LBAIXLJDUy00URSh0WjGpWYWDochiiK0Wi1rPy+8SNABkbXeYuVxjrW2EmKNi1KpZG0jvpOEN40vjT99TnMkVvWSsdr2iYRhEWY8UUpq/I/NbaPdkL5/pZoPP/n46H0AzBt58OBBaDQalJSUwGq1AgAzJ8mTFwqFIkwuWZbR3d2N77//HgUFBbDb7Uw4DJVD4zXDkcDZs2fR1tbG+kGr1bL+IM8mxc1JksT6ILpcks1mY4HDsiwjEAgwbuly402CITr3dDjAt7O7uxu1tbVME6VgYa1WyzRsqqpC7aWNze/3Q5IkGI1GSJKE4uJiZGRkXDIn4hgdDIsw41V4fpGSgOInbqy4Hfo+XXM14pt4TYJSmtRqNZRKJURRhMvlwj//+U90d3fjL3/5CyoqKqDX6y9ZYBRQGwqF2ML/+uuvsXHjRtx1111Yv349kpOT2XW0qEmj49OpovtiJBAOh9He3o5XXnkF1dXVTCPTarXsnWmRR4PGz+/3IxQKYc6cOXj88ccxf/58JgiitTdeaJE2BFxMiSIth+feoje/K+0fEsaCIKC7uxsvv/wy6uvrWViG0WiESqViQp1Pb+L7IRgMsv7R6/V4/vnnsWrVKibAxyvVcK1gWIQZLzjI9U2LhT6nhR1rAtBkouuGo8Iqn8pCKSsOhwNutxtarRYGg+GShRbdRuJUwuEwPB4Penp6EAgE2IIkbYAWLS300XTxKxQKFBUVYfr06di/fz/7+9e//jVSUlIgCAKA2JuMXq/HmTNncODAAZw4cQInT55EfX09KioqmPbKm9x0Dz6XM7ov6J140JygTUOlUl2xoFAqlUzrvvHGG3H8+HFIkoTExETceeedmDZtGtO+eU2ZBLhGo0FnZyf+97//4ciRI0wbX7JkCQwGA9u4h4KhCueRcKpcS+bxsAkz3mQhNZ9PmKbJEm1q8CZBdF7i1YQoihBFkWlo5NkKh8Pw+XzM9Ij1bFoYkiTB7/cjEAggGAzCYrEwTUehUECr1bJFS4ub+mU0JpEsy5AkCSkpKVi3bh2amprw2WefoaOjA/X19fj973+PwsJC1sZYCAQC+NWvfoWamho8+uij+Prrr7Fy5UqkpaVFXMcLehpT4OImEq2xARc3L+CiNnU1BBlPKciyjNWrV6OpqQmbN29GKBSC1+tFVVUVy3KIFr78PdauXYtvv/0Wzz33HPbt24e7774bKSkpzBwfbxivubWxMCxBszQ5JUmC0+lkA03cA199QBAECILAhAvP0dBEc7vdV32X4geQzCMyC2MR3Txo0alUKhiNRpav6PF4GKHMC8dQKIRgMAhBEOD3++HxeOD1eiEIQsRCGylQ2MlNN92EkpIS9Pb2YsuWLaipqWGbzmDQ6/WwWq2oqqrC+vXr4XK50NHRwcZLrVajv78f/f39CAaDAC5Wp1AoFBgYGIDD4WAbBgUd0/+TwKVNxeVyscoVVwISikqlEsnJyVi7di2ys7PhdDrx0Ucf4f3334fL5YoQZjzdQZ9brVYsXrwY999/P/r7+1FXVwdBECIE9+V+hoqh3u9Kfq4lDJs3kyowHD58GBUVFcjOzkY4HEZLSwv27t0Ll8vFJq/VaoXL5YLZbEZZWRkWLFiAUCgEv9+PY8eOwev1YsWKFRHeRF4oRoMCXwfjfmhy8hoSbxKTm36wMjd0b/J08doEcNE8Is+Yz+fD7t270dLSAp1OB7PZjISEBEyePBlZWVlITEyM0FTpfQbjrWixkTcu2hzmucnoNvNE9w033ABRFPHMM8/A7/dj48aNyMnJwezZs5n3ltdSeHNfrVbjjjvugF6vh8ViYe8gSRLq6+shyzJKS0tZXwWDQezduxc1NTVISUmBRqOByWRCSUkJJk2aFDEm1H6Hw4HGxkbk5+ejoKCAjSfxjpejAHjNLxQKQRRF6PV6mM1mzJ49Gw8//DBef/11HD9+HFu2bEFJSQlWrFgBnU7HvkMaJrVBqVTCaDRi5cqV6Ovrg8lkgs/nY3OJTgAj/pGyDHgtPdb7xvo37/ji28nHNPLzlzZkGidRFNk64WPj6BpeAEdbTOMRV6yZDSbxadK3trYy88rv96O6uhr19fWYPn06NBoNPvjgA2i1WixevBi1tbVwOBzsvhqNBufPn0dvby+7L2k5RNSKoohgMMjqb/GDJggCI235SRJLSNHi4ElrftHE2tF4To/uG80JiaKI2tpavPfee0hNTcVNN92EzMxMvPbaazh16hT0en3EKVHRToJo0MQUBIE9OxQKsbbzJj3/GYH6TKlUwmw2Y9GiRbj55pvh8/nQ2tqKf//732hubmbvQouSH1MS9FlZWbj33ntRWFjIBBFp0/39/UyYC4KA7777Dq+88goKCgpQVVWF3NxcfPzxx6itrWX353k6csy0tbVFtEOWZfj9fni93oixJ62eHx9JkhAIBCLMfuozpVKJZcuWYfny5bBYLGhpacFHH32E7u5uAGAOARJC0fRAeno67r//fixatAgJCQmsb2mTo3cjoUjvJIoiAoFABC88mIZE7823m5wvvPVDvyl5nrcy+PlM3lianz6fL2Iu87/HI0YsNzMcvuACLy0txSOPPIIlS5ZAEAQUFhZi1apVmDlzJh544AFUVVVFxPFotVqYzWYmwIiMJbOBzr6k3ZOuoUkw2kfIhcNhNDU1QafTYcGCBUhPT0d5eTmeeOIJFBQUMKFFWiFv5gzG1/He1Fg8Dd2DzCrS4qhv6L0MBgPy8vJw++23o6CgAKIoYvPmzdi2bRv8fj+7X/ShKgSFQgGz2cy8gXQttYfXEE6cOIGioiLMnz8fOTk5KC8vx9q1a1FWVsaSuKOT9fnNgd9gDAYDTCZTxNjzfcHzoeSRjv6hKiF33nknli5dClEUsW/fPrz44otwOBzw+/1sY4i1EfLVVQgUvkFzk4JsLRYL0+xISNJ64IU0/0NaIQVnh0IhGI3GCG0ZACt2QFq3IAhQKpUIBALsOtosycHhdruhVCphMBgi1st4LpYAjGDQLE2ewsJC6HQ6tLe34/z585gxYwaL6crKymIxSzSgtAhpVyT3vtfrRUtLS8Qux0exp6SkwG63j/rxbMTRVFdXo7q6GrfeeivMZjOmTJkCs9kMj8cDk8nEzCu+UGKsycXvvDU1NaxwpN/vZ+0PhUJITk5GXl4ei3cjE40mLi32UCiEyspKPP3003jqqafQ39+PN954A6WlpVi0aFFE2g8PXijy2oVOp4sQsLxzp7q6GgcPHsT1118P4EKpnYSEBHi9XuY9JjMtWsslLZHG1+PxoKmpiT2H12zVajUKCgqQmJj4g6EvGo0G+fn5uPPOO9Ha2or6+np89dVX2L59O9asWXPJKV58qFD0fen5gUAAbrcbDocDBQUF6OzsRHt7O4qLixmdQJqm2+1GV1cXent7WeFHXkMym82sWgnvJBFFkQna/v5+dHV1ITU1FUqlEvX19bDb7UhNTcW5c+fQ0dGBqVOnQqvVwuFwoL+/H+np6ejp6UFTUxOSk5ORn58PvV4/7nNORzQDQKfTIRy+UIr4/PnzqKurw4YNG5iGxUee07V6vR4ej4dNcACMhzp58iQGBgYiJh0t5oKCAthsNnaf0YIgCKioqMC8efPw0ksvwWAwYNWqVUhNTY3wfAYCgYi4tsEWIAkOr9eL5uZmdHd3Q6vVMk2KhGJeXh5SUlKY44X3yhEPRMJClmXMmzcPt956Kz744AN0dnbiww8/RHZ2NoqKiqDRaAbl4ajv+f8nk4xMVL1ej2XLlmHHjh14/vnnkZmZiZKSElYPjr7He7bpc56zo8/cbjfa2tpw/PjxiD4BAL/fj+TkZKSkpMBsNkOSJMaB8aDMDkmSUFlZiXvuuQcvvPACnE4n/v73v6O4uBilpaUwmUyXvBcQWaSANolwOIzu7m689dZbUCqVWL16NY4ePYpdu3Zh9erVuO+++yI0cEmS0N7ejvr6eqbh8W2ZMmUKUlNTYbFYEA6HmaOBhI4gCKiursZ//vMf/OxnP4PRaMSmTZtQUlKCdevWYffu3di9ezceeeQRlJaW4pNPPsGpU6ewZs0atLW14aOPPkJJSQkeeOAB5smlMR2PQu2KhdlgJHms6yhCPBwO49SpU0hOTsasWbOYEBMEAV6vF0ePHkVeXh7y8/OZp9Pn8zGzQavVwmQy4brrrruEs6J34Ylp4NK6/lcD0aYLmQsE2l2NRiOefPJJvP7663jttdcQDoexatUqtkBqa2vh8Xgwbdo0mM1mFpMXa0LRsxITE7Fw4UKmiZApQUJErVZDr9ez/iYejQ83oYWjVquRmpqKDRs2oK6uDkePHsVnn32GmTNnoqioiG0S0e8BXBSeZC6ReUnaMpnDdrsdTzzxBDZu3IiHH34Y//d//4fFixezvNfa2lr09/ezyrb8+ykUF/Ii6Z5JSUlQq9XIycm5pH9Iq01LS2NafizQ/UwmE3Q6HZYvX46Ojg5s2rQJPT09ePvtt/HUU08xE5hvM589QJoyCXWr1QqFQoGUlBQ4HA7Mnj0bTU1NbNPlHUsJCQmoqKhARUVFzDg1pVKJlJQUxonSO1ObTCYTDAYDM2HtdjvmzZsHp9MJQRCwcOFC1NXVIRAIwGKxMAea2+1Gbm4u5s2bh+7ubrbGotvEt3k84KpoZrwQif7NL3TgwuTu6+tDTU0NcnJyYLFYWEcaDAY4nU4WYU2TBLggnGhikxNg27ZtcDqdTO0mzkyj0aC4uBjz5s1DWlrasA1ILC2KNBTgAndD5l9JSQnWrFmDZ599Fh9++CFmzZoFu93OhABpnzSZiCcZDL29vdizZw86OjrYJOX7MTc3F0uXLmULOhwOsxxEftHwfFRubi7Wr1+P06dPQ6PRwGw2RwiU6HbTvYjHJE1Kp9PB5XIxmoA2q7KyMjz55JN46KGH8M4776CoqAjZ2dlMUyQOib83bVbkFQUumHJtbW3YvXv3Jf0iCAKsViuWLFmCyZMnM96KN7H5caK+yM7OxtKlS7Ft2za0t7dDoVBE1PyPNdY8n0eLv6OjAw0NDUhNTcWUKVMwMDAAv9+P6dOnA7joVAmHwzh//jz279+Prq6umJvt3LlzMXfuXOaIAC5uyhScferUKTidTmaJNDU1oaioCAUFBTh06BCCwSDKysoQCATQ3NwMURSRnJyM3NxcvPPOO1i8eHGEwCTEogrGOkbMzOQ9g36/H6dPn8Ytt9yCpKSkiOva29uhVquRlZUV4UGLXlDkAeXLH/OTzmw2w2q1xjQRhgvRz/J6vejq6kJGRgYCgQAqKyuxbt06bNmyBadPn0ZGRgZkWUZvby+mTZsGq9XK4q/I7I71DKVSiaSkJFRWVkbUU+OJYAovAWKbawReYCiVSpw5cwY+nw/r16/HkiVLmFdxsADiWBAEAWazGUqlEi6XC52dnSgqKkI4HEZBQQF++9vf4u2330ZfXx+ysrLQ1dUFt9uN8vLymLQAvSONr06nQ3p6Om688cZLnk3XZGZmMvM4lmc4uj9IOwkEAqiqqsJjjz3GhNlQIIoi3G43Ojs70dPTg3nz5jGBYbFYMG3aNPZ+lCWRmZmJyspKRtZHw2KxsANzeKcDeSQ9Hg/q6uowdepUlJaW4ujRo3C73Zg/fz7MZjPjzxISEuByudDQ0IDFixejqKgIjY2NOHfuHIqLi1mfi6IY0yQfLxhRBwDthidPnoTf70d+fj50Oh3bbXw+HxoaGjAwMIDy8nK2gLxeLxtIgk6ng91uv8Rk4rmXWKVrhhM8T0Q15ffu3YvVq1ezwFqr1Qq9Xg+j0YhQKASHw4FPPvkEGzZsgM1mYwJoMMcFLVbyRNJnwEWBz8cbEaLNBp64J4G1a9cuvPHGG5g/fz7Wrl2LhISECI1gqJkLWq0W/f39kCSJpQClp6ezdiuVSqSnp7Px7O7uxubNm7FhwwbGJfKghUaePDKL+TMYeFA8GXDpBkMg85e8jwcOHMALL7wAURRxzz33oKCgIELjuhwobq6mpgYLFizAwoUL0dvbi87OTuTn5zMzjy/iqVarmdCNFaJB1ga1gz6jfujq6oLT6cSqVaugVqtRW1uLlJQUTJs2DQ6HA99//z2WLVsGrVaLxsZGmEwmLF++HGazGQcPHkR+fj5zkvl8Pni9Xja3xiNGTAQTj3Ly5El8/vnnbJJ5PB6207hcLjidTkyePJmZlTTpeM0OQISLms8uoMnO2/8jBYr8pzijnp4efPzxx3jvvfdQX1+PL7/8Ep9++imqqqpQWloKWZZx+vRpZGVlsaBiamsgEIhpevCkOz0vug/o72jNLBr8BtDQ0IB//OMfSEtLw/r16zFlyhRmvv5YzZaPlWtvb8fnn3+Od955B62trTh06BC++OILzJkzB5MnT4ZKpYLL5UJWVhZyc3NjPou4UhK6dH/iFaN/qA8HCykBLppRCoUCra2t2LlzJ3p6evDMM8/ghhtuYA6VH7pHdF/29PTgu+++Q2lpKVQqFc6dO4cjR46wBHd6b8r84OkUnU4HvV4f8UMOIr4fKPRiYGAAx48fZ86ulpYWNDQ0YOnSpbDZbDh37hxaWlrYHNu5cyemT5+OoqIi+Hw+HDlyhMUESpKE/fv34+mnn8aePXtYfu54w7BpZtFcGZkxoiji1ltvhSzLMJvNCIVCbBft7OyE0+lEVlZWRIxU9I7Fe7/4RUqf8dfQ4o42Q4GL3BEJTKvVCrfbHXE47A95FelZxF94vV4EAgGYTCbo9XqkpaWx6PpDhw7B7/fjN7/5DYutCgQC6O/vR2pqKqxWa0R4hk6ni2lmRptMJPB5joPaFa3d8TwmH0zb2tqKV199FWfOnMFf//pXLFu2DKFQCGazmTlt+CIBdA8Cv+AUiovxSpIkoaysDH/+858Zyd/d3Y377rsPc+fOZVp5Z2cnbDYbAETQCqRh0r143mows5fn2KKJ+ujxCwQC6O7uxrvvvotPP/0UK1aswNKlS1nfU9HG6O/x/cvHg1ksFjz00EMoKyuDJEmw2+343e9+h6lTpzJNj4QthRwBGDRThXcs8I4tMvvnzJmDkpISZGdnQ5IkrFu3DtOmTYMsy7Db7XjssceQnZ2NKVOm4Je//CUSEhJYbNkDDzwAQRCQkZHBOOY1a9agpKSEacbjhSsjDIsw44UGedlokpaXlwOIPAWJwilOnjwJp9PJJhBdEwwG2W7LaxmxPGyDuZRjxUnx7vzExEQsWrQI//rXv9DY2IjZs2ez+1GOIZ9CQz+SJKGmpgYAMG3aNBYgSfxQYWFhhFOEvk+BnY2NjWwB8VrVD2mU/CQjwTfY/0dPSBIKvOdx586d2Lt3L37+85+jsrIyIkyG+BT6of7lo+1pfCkKnZ6r0+lgs9mQkZEBhUKBhQsXsiICKpUKoiiyQ4fnz58Pq9XKPH6krfv9fkYZxBrzWOMc3R+8p5D4RRqP6upq7Ny5EytWrMCTTz6J1NRU9gwq7RPtwKJNlD6nfycmJmLFihXsuTabDbfddlvEfCEM9QAcfoOL/qy4uDji2iVLlrB/WywWZGVlsb/nzp3L/q3T6VBZWRnx3aKiIhQVFbG/xyNvNmxvHAqFmEsYQMwBJcFEk6uqqgrr1q1DamoqFAoFfD4f86oNJyiwND8/HwDw3nvv4dChQ0yT5JOU+Whzt9uNrVu3Ytu2bcjLy2NhJvxk580/+rdSeaHqRnt7O4LBIDIzM0dk8pBQIEEhSRJ27NiBV199FZWVlXjqqafYTh3tweMXL5khJ06cwEsvvYR9+/axGCidTsc0G8oGoPtpNBpWJog2iNbWVvj9fmRmZrL0Hz6UhE7BuhIQT8V7iwFg//792LhxI3Q6Hf7whz8gLy+PjQ9vGUSb6bIs49y5c3jiiSfw7rvvslShwfp8vGE8vjMwjJVmFQoFkpKSMGvWLFgslogFzoPPI8vNzUVWVhZLV9JqtbDb7Zd4Mq82SCMqKSlBZWUlvvjiC7z//vswGAyYOXMmi/GhXZhyPg8fPoz//ve/cDgcuPfeexkHBFwqvPndvbe3F11dXThz5gwmTZoEm8027G0ELprGlGLU2tqKDz/8kJ3KRIQ/v+B5E0elUiEQCEChUMDpdGLTpk2ora1FcXFxBK2QmZmJ5OTkiOoh1DZ6vsfjQVtbG5xOJ0pKSpCSkhIR7a9UKpkXMDU19YrardPpIkxrlUqFs2fP4v333wcAPProo5g0aRITWBSmwJu5vDBzOp3YunUrtm/fjilTpkAUxUFJ81i0xkgIi/EqkK4Ew8aZqdVqJCYmMq8kD96jRr/J3ORz3UwmEwvavNqDQ7stH9yZm5uLu+66C2fPnsUnn3yCjo4O3H777SgrK0NmZia77vTp0/jmm2+wbds2nDx5EqtXr8bdd9/NosXpJ5pnIsHg9/vhcrmQnJzMwhFGAmQWh8NhdHZ24m9/+xuOHj2KBx98EFVVVXA6nfB6vayWG4Hev6+vD21tbairq8M333yDw4cPY/HixZg8eTKAi5tYTk4OE1rR3Cb1id/vR0dHB3JyclBQUBAR4EoapNVqRVlZ2VU5k5Ri9zQaDXp6evDmm2/iiy++wJ/+9CcUFhayUlTEQfIOBvI6t7a2oqOjA8eOHcPWrVuRnZ3NKoMMpllHe4/5z4YbE02gDWvZbFoUtOPGAnnwaMLThKP7RHt0rhYGC1GYPXs2HnnkEbz11ls4ePAgamtrkZOTw85TJJ6rp6cHZrMZv/jFL/D4448jLy8v4vAPEs78/el56enpSExMhFqthsFggCAII1ZDXqPRwO1246uvvsKePXsQCATw2Wef4cCBA6z/gUhSmhfC9fX1EEURAwMDyMrKwooVK5hGSn1ImwRf3YFAgiI1NRULFy6EQnEhOJUIeZovNOYUnxMZnAAACUVJREFU9X4l6TWkaZJm+eWXX2L//v2QZRn79u1DU1NTxLwjgU+baDAYxMDAALq7u9HX18fM4ZUrV6K4uHhc8kvXIq6aMOPNKcIPxatEcxH0O9p79EOC8ErAVz7lP7NarVi2bBlyc3NZeWiqy+bxeJCfn4/Zs2cjLS0Nc+bMwezZs5GXl8dIa35Bx/KgAoioqAAgZqDocIAW9XfffYcPPvgA4fCF9JsTJ05ECF0+vor/jDyIarUaZrMZubm5mDVrVgSvSBjsMBf+Gv5EK4VCEcGN8uN+pXmCvLZcV1eHTZs2oaWlBUajEU1NTTh16tSg/c+/n0ajYSliZrMZ8+fPZ6Y5eRgHQ6x5EMfVxYQ9am4wkAevpKQERUVFrBrq+fPnIQgCEhISkJiYCJ1OB6PRyEqwUDHDsQ6FQoGZM2fiueeeA3CRLwQizWG+SCL/OQWkhsNhmEwmZGRkRISRjAT392NBGhallb388sssvINvHx+uQiDnkCRJEZVMJEmK0EjHw9hf64iPAIdobo68kBaLhXFmfBwTcLHyK58IPVZB3lWDwYCSkhIW5zfYtUBkHielTBGhTl5C0kL50JOxBBJklPo1Y8aMiPjDHwIv7AhkRvOFK8djlYlrDXFhxoGPrKfJTgs4OviUn8h8DfvxAEpcpgNZKNUqOmyGBBMtaApLIVKfD1LmF/VY6wf+hCcay+jgakKsd+f7gJxV9D2+akicOxtdxIUZB9IwiOBVq9URoQr8YqVraEFH546OVURnARD5Ho3oRc17JelwFvouxYQNh9f5aoB3KBAnG6uqLXBp2Wj6nNc+qUoLCcm4EBsbmLCjoFAoIg4kEUUR3377Lfbs2RNhQlBOKZ+2Alw87UcURXz11Vd49tln0dLSEmG2DWbC8DFosYKJ+e9HJ4xfiaOAFzyiKKKlpQU7d+6Ex+OJcFbwSenBYJAtXIrIP3bsGF588UW0trYy7USn00UU0BwqhtIPVwoKguXHurm5GZs3b2Y5sHzlFV4o83whla9644038Oabbw6pjn8cI4cJK8woL5DXtkhwUXQ8f2gIr7WRsOOPZaODWMYy+MVKjg0+cp3aR+VsKO6KFzC00N1uN3p7eyMSsceiVgYgYgPiNSy/38+8kPQZzQESbvxGQnyjJEno6Ohg1Vx4728co4exbxcNE4gMpgXodrvh9/tRXl7OMhA8Hg++//57dqoNcMFMyc3NRW5uLsLhMCuESOcYjGVQuIMkSfD5fHA6nZgxYwbL0Ojp6UF7ezs8Hg8j9pVKJXJycpCens4WbXJyMhISEliU/1gHCSUaa7/fj66uLixcuBAWi4VVj2hubmanOVHbbTYbcnNz2d8GgwFpaWnQarVISEi45Li2OEYPE1aYCYIQkTR97tw57NixAzabLWKSJiUlsUVLu3BCQgIzMYLBIAKBAFwu12g250chHL5wwO6uXbuwdOlSZGdnM60jOTmZxXuRKU4Ci0obKRQKdpgxn+kwVsHzfbIso7+/H1u2bMEtt9zCSm9rNBqkpKTA6/VGFLk0GAwRoRtkCvt8vohS03FBNvqYsMKMKniSgPL7/SwQlMwOURRZfBmVdaZAT0qaphJGlFA/lsFzcB6PBzqdDoWFhRGHFff19cHtdkeU0dFqtTAajdDr9VCpVOxoufGyiHmuUxAEuFwuVsQQACsaEF0PX6/XRzh1SJATfzaStfLiuDwmhDCjRUdueZqQfr8fVqsVHo8HjY2NmDRpEstaUKvVSEtLY2YIgSpeUNR3KBRiWh55OCn+6krd9dFkNB9O8FP7gc6DrKurQ2ZmJjv5BwASExNhNpsjyt5QqAqf6iMIAquOMR5CEqjfKEausbERFosFZrOZ8WgGgwFTp069pDYbCTOaP8S1Go1GCILAckrHgyf7WseEGgHe4+Tz+aDT6SCKIhwOBxoaGnDbbbdFePLUanXM0AXScEijOXPmDBobG9Hf38/qu0c/bzTBe9tMJhOcTieam5sxY8YMdgYDRcRHJ73H8tSdP38eLS0tOHPmDOx2+5hfyNFlhU6cOMEq6ZIzhzTt6LbyGlg4HIbT6cTZs2fR19cHl8uFpKSkiCDaOEYPY3sWDiOIE5NlGZ2dnQgGg8jJyYmZCxor5op2agCYNWsWHnzwQWaiAhgz2QC8l4600jNnzkCSpIhIeODy+YOksdntdtxxxx2oqKj4UYd+jBZkWWZFANra2uB2uzFjxgzm1aUg6VhmM2nY9H8qlQrLly+HVqtFWlpahIc4jtHFhBVmGo0GTqcTAwMDaGpqwsyZM5GSkgIgtvDiIcsyBEFgeXuZmZlISUlhtbuIWxkLGgvPkwmCgPPnz6O+vh6ZmZmw2WzsRJ7BBBkfb0UaiM1mw8qVK8eFJ5MQCATQ19eHkydPori4mB0GE32SfHQf8LSERqOBTqdDRUUFS2EjQSnL8iVFEuIYWYz+ahslBAIBuN1uNDc3o6SkBJMnTx6yZ06pVLLj7EVRZBwKf1p4dOjHaIDXyqieV0NDAwoLC5kW6fP5hvSOdA05R7RaLXOIjHWtJBQKwe/3o6mpCTabDVVVVTAajUxA8QHDg4EvbaTX69nmQNU0xnofTARMCGFGkey8OUVnc9JBGmazmQXR8qk5l5vgpJ3xuzrxTz9GkPHXkhAymUzweDxM2yOTZyjgY5+I5LZarVi8eDGrchEOh6HX6y/7ntEOCPqM59d4bm2slbtRq9VIT0/HggUL2LmQ0bX9f+h9+fbw5dCjD5EZS22eiJgQwgyIPH2avJFUHJH4lMFOyYkF/jqaxLxZeSUeR/q+x+NhBwWTh/SnkMz8Yow+T2EiLEBqf6wT2i8XvR/dP3ydtzjGFhThCTAq4XCYmQRKpRLNzc0wmUyw2WzMo8U7BIaSJxhdRQMYvOLCj31X+vF4POjs7EROTg6Lafsx+Y9DHdrRut9IIZY3mhdoP8VEHEpyfhwjiwkhzIjLiq5yQeYCT/ICQ5uUsa690gkea9HxQnU8xHSNRfzQWF2pBs0jLsxGFxPCzOSPuCdejAQZCbXRjhOKtTgoAJc/jo9yJuO4MsQFz7WHCSHM+DIuRNyShsaT9j8WlwvhuJJ7EejdqShifBH+NFztfouPw9jDhDAzx6tJMF7fO444RgNxeyWOOOK4JhAXZnHEEcc1gbgwiyOOOK4J/D8vYJb94HRI/wAAAABJRU5ErkJggg==)"
      ],
      "metadata": {
        "id": "3R19HbLEaKa-"
      }
    },
    {
      "cell_type": "markdown",
      "source": [
        "### **Conceitos, fórmulas e teoremas importantes**\n",
        "\n",
        "- Conjunto: Um Conjuntos é uma coleção de objetos. EM um conjunto, a ordem não é importante. Assim, o conjunto {A, B, C} é o mesmo que o conjunto {A, C, B}. Um elemento pode estar ou não em um conjunto; ele não pode estar em um conjunto mais de uma vez, mesmo que a descrição de um conjunto nomeie este elemento mais de uma vez.\n",
        "\n",
        "- Disjunto: Dois conjuntos são disjuntos se eles não possuem elementos em comum.\n",
        "\n",
        "- Conjuntos mutualmente disjuntos: Um conjunto de conjuntos {S1, ..., Sn} é uma familia de conjuntos mutuamente disjuntos se cada dois conjuntos de S, forem disjuntos.\n",
        "\n",
        "- Tamanho de um conjunto: Dado um conjunto S, o tamanho de S, indicado por |S|, é o número de elementos distintos em S.\n",
        "\n",
        "- Princípio da adição: O tamanho da união de uma familia de conjuntos mutuamente disjuntos é a soma dos tamanhos dos conjuntos, Em outras palavras, se S1, S2, ..., Sn são conjuntos disjuntos, então:\n",
        "\n",
        "$$\n",
        "\\left| S_1 \\space \\cup \\space S_2 \\space \\cup \\space ... \\space \\cup \\space S_n \\right| \\space = \\space \\left| S_1 \\right| \\space + \\space ... \\space + \\space \\left| S_n \\right|\n",
        "$$\n",
        "\n",
        "    para evitar as reticências que indicam o material que foi omitido, escrevemos:\n",
        "\n",
        "$$\n",
        "\\left| \\bigcup_{i=1}^{n} S_i \\right| = \\sum_{i=1}^{n} \\left| S_i \\right|.\n",
        "$$\n",
        "\n",
        "- Partição de um conjunto: A partição de um conjunto S é um conjunto de subconjuntos mutuamente disjuntos (às vezes chamados de blocos) de S cuja união é S.\n",
        "\n",
        "- Soma dos primeiros n-1 númeors:\n",
        "\n",
        "  $$\n",
        "    \\sum_{i=1}^{n-1} n-1 = \\sum_{i=1}^{n} \\left| S_i \\right|.\n",
        "  $$\n",
        "\n",
        "- Princípio do produto: O tamanho de m conjuntos disjuntos, cada um de tamanho n, -e mn.\n",
        "\n",
        "- Subconjuntos de dois elementos: O número de subconjuntos de dois elementos de um conjunto de n elementos, indicado por:\n",
        "\n",
        "  $$\n",
        "    (n/2) = n(n - 1) / 2\n",
        "  $$\n",
        "\n",
        "    `onde (n/2) é lido como \"n escolha 2\"`\n",
        "\n",
        "\n"
      ],
      "metadata": {
        "id": "8R5IPqMEa9_d"
      }
    },
    {
      "cell_type": "markdown",
      "source": [
        "#### Exercicios\n",
        "\n",
        "1 - Qual o número máximo de comparações A[j] < A[j-1] para uma lista de tamanho n?\n",
        "\n",
        "  para 1 = 2 até n\n",
        "  j=i\n",
        "  enquanto(j maior ou igual a 2) e (A[j] < A[j-1])\n",
        "    troque A[j] e A[j-1]\n",
        "    j = j - 1\n",
        "\n",
        "\n",
        "\n",
        "2 - Cinco escolas enviarão seus times de beisebol para um torneio no qual cada time precisa jogar contra o outro exatamente 1 vez. Quantas partidas serão jogadas?\n",
        "\n",
        "3 - De quantas maneiras diferentes podemos obter a primeira e então segunda carta com um baralho de 52 cartas?\n",
        "\n",
        "4 - De quantas maneiras diferentes podemos obter duas cartas de um baralho de 52 cartas?\n",
        "\n",
        "5 - De quantas maneiras diferentes podemos obter a primeira, a segunda e a terceira carta de um baralho de 52 cartas?\n",
        "\n",
        "6 - De quantas maneiras diferentes um clube com 10 sócios pode eleger um presidente e um tesoureiro dentre seus participantes?\n",
        "\n",
        "7 - De quantas maneiras diferentes um clube com 10 sócios pode eleger um comitê executivo de duas pessoas dentre seus participantes?\n",
        "\n",
        "8 - De quantas maneiras diferentes um clube com 10 sócios pode eleger um presidente e um quadro com dois conselheiros executivos dentre seus sócios ( supondo que o presidente não esteja no quadro de conselheiros )?\n",
        "\n",
        "9 - Usando a fórmula para (n/2). é simples mostrar que:\n",
        "n(n-1/2) = (n/2) (n -2)\n",
        "\n",
        "No entanto, essa prova simplesmente usa substituição cega e simplificação. Encontre uma explicação mais conceitual do porquê de essa fórmula ser verdadeira. (Dica: Pense a partir do ponto de vista dos dirigentes e participantes dos comitês de um clube)\n",
        "\n"
      ],
      "metadata": {
        "id": "ZUow4939jR1b"
      }
    },
    {
      "cell_type": "markdown",
      "source": [
        "Lição 1:\n",
        "\n",
        "Nesse caso precisamos saber como está ordenado a lista de tamanho n, mas o pior caso é se ela estiver com ordenação invertida, então precisaria percorrer toda a lista:\n",
        "\n",
        "n(n-1) / 2\n",
        "\n",
        "vou deixar um exemplo em código abaixo"
      ],
      "metadata": {
        "id": "DYF9Swbymwdj"
      }
    },
    {
      "cell_type": "code",
      "source": [
        "def sort_fn(A, initial=None):\n",
        "  n = len(A)\n",
        "  comparisons = 0\n",
        "  for i in range(initial or 1, n):\n",
        "    j = i\n",
        "    while j >= (initial or 1) and A[j] < A[j-1]:\n",
        "      comparisons += 1\n",
        "      A[j], A[j-1] = A[j-1], A[j]\n",
        "      j = j - 1\n",
        "  print(f\"Número de comparações: {comparisons}\")\n",
        "  return A\n",
        "\n",
        "list = [i for i in range(9, 0, -1)]\n",
        "print(sort_fn(list.copy()))\n",
        "\n",
        "print(\"\\nAcima vemos o pior dos casos, já abaixo o melhor dos casos que é quando está ordenada já!\\n\")\n",
        "listTwo = list.copy()\n",
        "listTwo.sort()\n",
        "print(sort_fn(listTwo))\n",
        "\n",
        "# vamos usar a notação matemática para vermos a veracidade\n",
        "list.sort(reverse=True)\n",
        "n = len(list)\n",
        "print(\"\\nPior dos casos usando a fórmula n(n-1)/2: \", (n*(n-1))/2)"
      ],
      "metadata": {
        "colab": {
          "base_uri": "https://localhost:8080/"
        },
        "id": "OWwPjaqqjAQd",
        "outputId": "05016449-5086-4043-b40b-354cb7a64059"
      },
      "execution_count": 151,
      "outputs": [
        {
          "output_type": "stream",
          "name": "stdout",
          "text": [
            "Número de comparações: 36\n",
            "[1, 2, 3, 4, 5, 6, 7, 8, 9]\n",
            "\n",
            "Acima vemos o pior dos casos, já abaixo o melhor dos casos que é quando está ordenada já!\n",
            "\n",
            "Número de comparações: 0\n",
            "[1, 2, 3, 4, 5, 6, 7, 8, 9]\n",
            "\n",
            "Pior dos casos usando a fórmula n(n-1)/2:  36.0\n"
          ]
        }
      ]
    },
    {
      "cell_type": "code",
      "source": [
        "# lição 2\n",
        "\n",
        "escolas = 5\n",
        "jogos = []\n",
        "\n",
        "for i in range(0, escolas):\n",
        "  for j in range(i + 1, escolas):\n",
        "    jogos.append([i, j])\n",
        "\n",
        "print(f\"Jogos: {jogos}\")\n",
        "print(f\"Número de jogos: {len(jogos)}\")\n",
        "\n",
        "# podemos resolver utilizando combinações de 2 em n também:\n",
        "print(\"\\nMatematicamente n(n-1) / 2: \", escolas * (escolas - 1) / 2)"
      ],
      "metadata": {
        "colab": {
          "base_uri": "https://localhost:8080/"
        },
        "id": "KfFtFuMfiKAp",
        "outputId": "c7bcea6c-276b-4e0c-dc32-a166a3422ffd"
      },
      "execution_count": 152,
      "outputs": [
        {
          "output_type": "stream",
          "name": "stdout",
          "text": [
            "Jogos: [[0, 1], [0, 2], [0, 3], [0, 4], [1, 2], [1, 3], [1, 4], [2, 3], [2, 4], [3, 4]]\n",
            "Número de jogos: 10\n",
            "\n",
            "Matematicamente n(n-1) / 2:  10.0\n"
          ]
        }
      ]
    },
    {
      "cell_type": "code",
      "source": [
        "# lição 3\n",
        "cartas = 52\n",
        "total_maneiras = cartas * (cartas - 1)\n",
        "\n",
        "print(f\"3 - Total de maneiras: {total_maneiras}\")"
      ],
      "metadata": {
        "colab": {
          "base_uri": "https://localhost:8080/"
        },
        "id": "VZ_ns3xVv0fG",
        "outputId": "6f50d9b1-507f-4009-dc00-133193bf22fd"
      },
      "execution_count": 153,
      "outputs": [
        {
          "output_type": "stream",
          "name": "stdout",
          "text": [
            "3 - Total de maneiras: 2652\n"
          ]
        }
      ]
    },
    {
      "cell_type": "code",
      "source": [
        "# lição 4\n",
        "cartas = 52\n",
        "cartas_retiradas = 2\n",
        "\n",
        "total_maneiras = (cartas * (cartas - 1)) // cartas_retiradas\n",
        "\n",
        "\n",
        "print(f\"4 - Total de maneiras: {total_maneiras}\")"
      ],
      "metadata": {
        "colab": {
          "base_uri": "https://localhost:8080/"
        },
        "id": "bmtKsNrEyCX2",
        "outputId": "66e51edf-6331-4297-e138-660cb774d0a0"
      },
      "execution_count": 154,
      "outputs": [
        {
          "output_type": "stream",
          "name": "stdout",
          "text": [
            "4 - Total de maneiras: 1326\n"
          ]
        }
      ]
    },
    {
      "cell_type": "code",
      "source": [
        "# lição 5\n",
        "cartas = 52\n",
        "\n",
        "total_maneiras = 52 * (cartas - 1) * (cartas - 2)\n",
        "\n",
        "print(f\"5 - Total de maneiras: {total_maneiras}\")"
      ],
      "metadata": {
        "colab": {
          "base_uri": "https://localhost:8080/"
        },
        "id": "t7DsKWBsydC_",
        "outputId": "95d5a47a-e434-4140-bd45-2376c061f1a9"
      },
      "execution_count": 155,
      "outputs": [
        {
          "output_type": "stream",
          "name": "stdout",
          "text": [
            "5 - Total de maneiras: 132600\n"
          ]
        }
      ]
    },
    {
      "cell_type": "code",
      "source": [
        "# lição 6\n",
        "socios = 10\n",
        "# explicando de uma maneira mais simples\n",
        "# primeiro temos 10 opçẽs, após escolher o presidente, vamos ter uma opção a menos\n",
        "total_maneiras = socios * (socios - 1)\n",
        "\n",
        "print(f\"6 - Total de maneiras: {total_maneiras}\")"
      ],
      "metadata": {
        "colab": {
          "base_uri": "https://localhost:8080/"
        },
        "id": "ZBixACBu0y5H",
        "outputId": "ed068d64-e465-4fb3-c0ff-bc7ea71c7395"
      },
      "execution_count": 157,
      "outputs": [
        {
          "output_type": "stream",
          "name": "stdout",
          "text": [
            "6 - Total de maneiras: 90\n"
          ]
        }
      ]
    },
    {
      "cell_type": "code",
      "source": [
        "# lição 7\n",
        "socios = 10\n",
        "\n",
        "total_maneiras = socios * (socios - 1) // 2\n",
        "\n",
        "print(f\"7 - Total de maneiras: {total_maneiras}\")"
      ],
      "metadata": {
        "colab": {
          "base_uri": "https://localhost:8080/"
        },
        "id": "-_w1eYlQ1V_8",
        "outputId": "ddc193d2-8e3d-445c-e206-9c0fd776ab38"
      },
      "execution_count": 159,
      "outputs": [
        {
          "output_type": "stream",
          "name": "stdout",
          "text": [
            "7 - Total de maneiras: 45\n"
          ]
        }
      ]
    },
    {
      "cell_type": "code",
      "source": [
        "# lição 8\n",
        "socios = 10\n",
        "presidentes = socios\n",
        "\n",
        "conselheiros = (socios - 1) * (socios - 2) // 2\n",
        "\n",
        "total_maneiras = presidentes * conselheiros\n",
        "\n",
        "print(f\"8 - Total de maneiras: {total_maneiras}\")"
      ],
      "metadata": {
        "colab": {
          "base_uri": "https://localhost:8080/"
        },
        "id": "2GvBGbXZ2Lxg",
        "outputId": "3513167f-8bab-4808-dd8c-4455bafb9ff2"
      },
      "execution_count": 164,
      "outputs": [
        {
          "output_type": "stream",
          "name": "stdout",
          "text": [
            "8 - Total de maneiras: 360\n"
          ]
        }
      ]
    },
    {
      "cell_type": "markdown",
      "source": [
        "lição 9\n",
        "\n",
        "passamos a analisar a partir do quadro geral n, logo após temos em destaque que precisamos retirar desse 1 presidente (n - 1), sendo assim também retiras 2 membros do conselho (n - 2), com isso em mente temos as opções de possibilidades, podendo multiplizar as opções e dividir por 2 para simplificarmos o resultado."
      ],
      "metadata": {
        "id": "qsxo-oBr3U4P"
      }
    },
    {
      "cell_type": "markdown",
      "source": [
        "## **Contagem de listas, permutações e subconjuntos**\n",
        "\n",
        "Exercicio proposto:\n",
        "\n",
        "Uma senha de um certo sistema de computador deveria ter de quatro a oito caracteres e conter letras maiúsculas e minúsculas. Quantas senhas são possíveis? Quais princípios de contagem foi usado? Estime o percentual de possíveis senhas que possuam extamente quatro letras.\n",
        "\n",
        "\n"
      ],
      "metadata": {
        "id": "fjL802RpgUgq"
      }
    }
  ]
}